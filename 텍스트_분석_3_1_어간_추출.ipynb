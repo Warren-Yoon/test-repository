{
  "cells": [
    {
      "cell_type": "markdown",
      "metadata": {
        "id": "view-in-github",
        "colab_type": "text"
      },
      "source": [
        "<a href=\"https://colab.research.google.com/github/Warren-Yoon/test-repository/blob/main/%ED%85%8D%EC%8A%A4%ED%8A%B8_%EB%B6%84%EC%84%9D_3_1_%EC%96%B4%EA%B0%84_%EC%B6%94%EC%B6%9C.ipynb\" target=\"_parent\"><img src=\"https://colab.research.google.com/assets/colab-badge.svg\" alt=\"Open In Colab\"/></a>"
      ]
    },
    {
      "cell_type": "code",
      "execution_count": 10,
      "id": "7d885499",
      "metadata": {
        "colab": {
          "base_uri": "https://localhost:8080/"
        },
        "id": "7d885499",
        "outputId": "9afe8662-0c75-4b42-d888-591a75e4346e"
      },
      "outputs": [
        {
          "output_type": "stream",
          "name": "stderr",
          "text": [
            "[nltk_data] Downloading package punkt to /root/nltk_data...\n",
            "[nltk_data]   Unzipping tokenizers/punkt.zip.\n"
          ]
        },
        {
          "output_type": "stream",
          "name": "stdout",
          "text": [
            "['thi', 'wa', 'not', 'the', 'map', 'we', 'found', 'in', 'billi', 'bone', \"'s\", 'chest', ',', 'but', 'an', 'accur', 'copi']\n"
          ]
        }
      ],
      "source": [
        "import nltk\n",
        "nltk.download('punkt') #기존 자료에서 PUNK가 필요하다고 해서 바드에서 수정받음.\n",
        "from nltk.stem import PorterStemmer\n",
        "from nltk.tokenize import word_tokenize\n",
        "\n",
        "stemmer = PorterStemmer()\n",
        "text = \"This was not the map we found in Billy Bones's chest, but an accurate copy\"\n",
        "\n",
        "# 토큰화\n",
        "tokens = word_tokenize(text)\n",
        "\n",
        "# 원형 어근 추출\n",
        "stemmed_tokens = [stemmer.stem(token) for token in tokens]\n",
        "\n",
        "# 출력\n",
        "print(stemmed_tokens)\n"
      ]
    },
    {
      "cell_type": "code",
      "execution_count": 11,
      "id": "020e17bc",
      "metadata": {
        "id": "020e17bc"
      },
      "outputs": [],
      "source": [
        "t_text = word_tokenize(text)"
      ]
    },
    {
      "cell_type": "code",
      "execution_count": null,
      "id": "7e582d76",
      "metadata": {
        "id": "7e582d76",
        "outputId": "ae8a2ff8-6fce-43d7-f33d-534204a48997"
      },
      "outputs": [
        {
          "data": {
            "text/plain": [
              "['This',\n",
              " 'was',\n",
              " 'not',\n",
              " 'the',\n",
              " 'map',\n",
              " 'we',\n",
              " 'found',\n",
              " 'in',\n",
              " 'Billy',\n",
              " 'Bones',\n",
              " \"'s\",\n",
              " 'chest',\n",
              " ',',\n",
              " 'but',\n",
              " 'an',\n",
              " 'accurate',\n",
              " 'copy']"
            ]
          },
          "execution_count": 5,
          "metadata": {},
          "output_type": "execute_result"
        }
      ],
      "source": [
        "t_text"
      ]
    },
    {
      "cell_type": "code",
      "execution_count": null,
      "id": "8aec62d9",
      "metadata": {
        "id": "8aec62d9",
        "outputId": "de184464-4083-4d1f-a3c8-35e2d1380ae9"
      },
      "outputs": [
        {
          "data": {
            "text/plain": [
              "['thi',\n",
              " 'wa',\n",
              " 'not',\n",
              " 'the',\n",
              " 'map',\n",
              " 'we',\n",
              " 'found',\n",
              " 'in',\n",
              " 'billi',\n",
              " 'bone',\n",
              " \"'s\",\n",
              " 'chest',\n",
              " ',',\n",
              " 'but',\n",
              " 'an',\n",
              " 'accur',\n",
              " 'copi']"
            ]
          },
          "execution_count": 6,
          "metadata": {},
          "output_type": "execute_result"
        }
      ],
      "source": [
        "# 어간 추출\n",
        "[stemmer.stem(word) for word in t_text]"
      ]
    },
    {
      "cell_type": "code",
      "execution_count": 13,
      "id": "e5085938",
      "metadata": {
        "colab": {
          "base_uri": "https://localhost:8080/"
        },
        "id": "e5085938",
        "outputId": "522cb87d-54f5-4bad-c772-9e79dda35ec9"
      },
      "outputs": [
        {
          "output_type": "stream",
          "name": "stdout",
          "text": [
            "Collecting konlpy\n",
            "  Downloading konlpy-0.6.0-py2.py3-none-any.whl (19.4 MB)\n",
            "\u001b[2K     \u001b[90m━━━━━━━━━━━━━━━━━━━━━━━━━━━━━━━━━━━━━━━━\u001b[0m \u001b[32m19.4/19.4 MB\u001b[0m \u001b[31m34.1 MB/s\u001b[0m eta \u001b[36m0:00:00\u001b[0m\n",
            "\u001b[?25hCollecting JPype1>=0.7.0 (from konlpy)\n",
            "  Downloading JPype1-1.4.1-cp310-cp310-manylinux_2_12_x86_64.manylinux2010_x86_64.whl (465 kB)\n",
            "\u001b[2K     \u001b[90m━━━━━━━━━━━━━━━━━━━━━━━━━━━━━━━━━━━━━━━━\u001b[0m \u001b[32m465.3/465.3 kB\u001b[0m \u001b[31m36.0 MB/s\u001b[0m eta \u001b[36m0:00:00\u001b[0m\n",
            "\u001b[?25hRequirement already satisfied: lxml>=4.1.0 in /usr/local/lib/python3.10/dist-packages (from konlpy) (4.9.3)\n",
            "Requirement already satisfied: numpy>=1.6 in /usr/local/lib/python3.10/dist-packages (from konlpy) (1.23.5)\n",
            "Requirement already satisfied: packaging in /usr/local/lib/python3.10/dist-packages (from JPype1>=0.7.0->konlpy) (23.2)\n",
            "Installing collected packages: JPype1, konlpy\n",
            "Successfully installed JPype1-1.4.1 konlpy-0.6.0\n"
          ]
        }
      ],
      "source": [
        "# 코랩에는 konlpy가 안깔려 있으니까 먼저 깔아야 아래 코드 실행 가능\n",
        "!pip install konlpy\n"
      ]
    },
    {
      "cell_type": "code",
      "source": [
        " #한글 어간 추출\n",
        "from konlpy.tag import Okt\n",
        "Okt = Okt()\n",
        "\n",
        "text = \"한글 자연어 처리는 재밌다. 이제부터 열심히 해야지\"\n",
        "text1 = \"한다 하겠다 할 것이다 하는\"\n"
      ],
      "metadata": {
        "id": "0c00A_t6vSH_"
      },
      "id": "0c00A_t6vSH_",
      "execution_count": 14,
      "outputs": []
    },
    {
      "cell_type": "code",
      "execution_count": 15,
      "id": "30b99059",
      "metadata": {
        "colab": {
          "base_uri": "https://localhost:8080/"
        },
        "id": "30b99059",
        "outputId": "d72ca148-6d70-477a-cb4a-ed0b2d6fa20c"
      },
      "outputs": [
        {
          "output_type": "execute_result",
          "data": {
            "text/plain": [
              "['한글', '자연어', '처리', '는', '재밌다', '.', '이제', '부터', '열심히', '해야지']"
            ]
          },
          "metadata": {},
          "execution_count": 15
        }
      ],
      "source": [
        "# 형태소 분석\n",
        "Okt.morphs(text)"
      ]
    },
    {
      "cell_type": "code",
      "execution_count": 16,
      "id": "eb8fbfe9",
      "metadata": {
        "colab": {
          "base_uri": "https://localhost:8080/"
        },
        "id": "eb8fbfe9",
        "outputId": "4434bb33-c082-4c23-941a-f413df44074a"
      },
      "outputs": [
        {
          "output_type": "execute_result",
          "data": {
            "text/plain": [
              "['한글', '자연어', '처리', '는', '재밌다', '.', '이제', '부터', '열심히', '하다']"
            ]
          },
          "metadata": {},
          "execution_count": 16
        }
      ],
      "source": [
        "# 어간 분석\n",
        "Okt.morphs(text, stem=True)\n",
        "# 형태소 분석과 거의 동일하나 아래 결과에서 보듯이 해야지가 하다로 바뀌었음."
      ]
    },
    {
      "cell_type": "code",
      "execution_count": 17,
      "id": "4b28e32f",
      "metadata": {
        "colab": {
          "base_uri": "https://localhost:8080/"
        },
        "id": "4b28e32f",
        "outputId": "cdc96cf7-dc56-469b-a3b2-a88829472687"
      },
      "outputs": [
        {
          "output_type": "execute_result",
          "data": {
            "text/plain": [
              "['한다', '하겠다', '할', '것', '이다', '하는']"
            ]
          },
          "metadata": {},
          "execution_count": 17
        }
      ],
      "source": [
        "# 형태소 분석\n",
        "Okt.morphs(text1)"
      ]
    },
    {
      "cell_type": "code",
      "execution_count": 18,
      "id": "2c3c1c2b",
      "metadata": {
        "colab": {
          "base_uri": "https://localhost:8080/"
        },
        "id": "2c3c1c2b",
        "outputId": "2034507a-9401-4c3c-f922-a298d082fbec"
      },
      "outputs": [
        {
          "output_type": "execute_result",
          "data": {
            "text/plain": [
              "['하다', '하다', '하다', '것', '이다', '하다']"
            ]
          },
          "metadata": {},
          "execution_count": 18
        }
      ],
      "source": [
        "# 어간 분석\n",
        "Okt.morphs(text1, stem=True)"
      ]
    },
    {
      "cell_type": "code",
      "execution_count": 19,
      "id": "0299f6b6",
      "metadata": {
        "id": "0299f6b6"
      },
      "outputs": [],
      "source": [
        "# 품사에 대한 Tagging\n",
        "from konlpy.tag import Okt\n",
        "okt = Okt()\n",
        "\n",
        "text = \"한글 자연어 처리는 재밌다. 이제부터 열심히 해야지\""
      ]
    },
    {
      "cell_type": "code",
      "execution_count": 20,
      "id": "45af690e",
      "metadata": {
        "colab": {
          "base_uri": "https://localhost:8080/"
        },
        "id": "45af690e",
        "outputId": "95c66e7a-98dc-47ea-8a5c-6ab9dd1ba29e"
      },
      "outputs": [
        {
          "output_type": "execute_result",
          "data": {
            "text/plain": [
              "[('한글', 'Noun'),\n",
              " ('자연어', 'Noun'),\n",
              " ('처리', 'Noun'),\n",
              " ('는', 'Josa'),\n",
              " ('재밌다', 'Adjective'),\n",
              " ('.', 'Punctuation'),\n",
              " ('이제', 'Noun'),\n",
              " ('부터', 'Josa'),\n",
              " ('열심히', 'Adverb'),\n",
              " ('하다', 'Verb')]"
            ]
          },
          "metadata": {},
          "execution_count": 20
        }
      ],
      "source": [
        "#어간을 추출해서 품사를 태깅하기\n",
        "okt.pos(text, stem=True)"
      ]
    },
    {
      "cell_type": "code",
      "execution_count": 21,
      "id": "688c6a66",
      "metadata": {
        "colab": {
          "base_uri": "https://localhost:8080/"
        },
        "id": "688c6a66",
        "outputId": "8924c2b6-82c7-4137-dc3b-f5f21db5b899"
      },
      "outputs": [
        {
          "output_type": "execute_result",
          "data": {
            "text/plain": [
              "['한글', '자연어', '처리', '이제']"
            ]
          },
          "metadata": {},
          "execution_count": 21
        }
      ],
      "source": [
        "# 명사 추출\n",
        "clean_words = okt.nouns(text)\n",
        "clean_words"
      ]
    },
    {
      "cell_type": "code",
      "execution_count": 22,
      "id": "4926d738",
      "metadata": {
        "id": "4926d738"
      },
      "outputs": [],
      "source": [
        "# 명사, 동사 및 형용사 추출\n",
        "clean_words = []\n",
        "words = okt.pos(text, stem=True)\n",
        "\n",
        "for word in words:\n",
        "    if word [1] in [\"Noun\", \"Verb\", \"Adjective\"]:\n",
        "        clean_words.append(word[0])"
      ]
    },
    {
      "cell_type": "code",
      "execution_count": 23,
      "id": "ac862bdc",
      "metadata": {
        "colab": {
          "base_uri": "https://localhost:8080/"
        },
        "id": "ac862bdc",
        "outputId": "a6ece311-efa0-4383-b27b-63c1ab7f96ff"
      },
      "outputs": [
        {
          "output_type": "execute_result",
          "data": {
            "text/plain": [
              "['한글', '자연어', '처리', '재밌다', '이제', '하다']"
            ]
          },
          "metadata": {},
          "execution_count": 23
        }
      ],
      "source": [
        "clean_words"
      ]
    },
    {
      "cell_type": "code",
      "execution_count": 24,
      "id": "dbe75d6b",
      "metadata": {
        "colab": {
          "base_uri": "https://localhost:8080/",
          "height": 238
        },
        "id": "dbe75d6b",
        "outputId": "a0d3d35b-646e-44e2-f0f8-19b6c11f4d5d"
      },
      "outputs": [
        {
          "output_type": "error",
          "ename": "FileNotFoundError",
          "evalue": "ignored",
          "traceback": [
            "\u001b[0;31m---------------------------------------------------------------------------\u001b[0m",
            "\u001b[0;31mFileNotFoundError\u001b[0m                         Traceback (most recent call last)",
            "\u001b[0;32m<ipython-input-24-cd9ee9cd3b58>\u001b[0m in \u001b[0;36m<cell line: 4>\u001b[0;34m()\u001b[0m\n\u001b[1;32m      2\u001b[0m \u001b[0;32mimport\u001b[0m \u001b[0mre\u001b[0m\u001b[0;34m\u001b[0m\u001b[0;34m\u001b[0m\u001b[0m\n\u001b[1;32m      3\u001b[0m \u001b[0;34m\u001b[0m\u001b[0m\n\u001b[0;32m----> 4\u001b[0;31m \u001b[0;32mwith\u001b[0m \u001b[0mopen\u001b[0m\u001b[0;34m(\u001b[0m\u001b[0;34m'C://Users//POSCOINTL//텍스트분석//data_set//제임스웹.txt'\u001b[0m\u001b[0;34m,\u001b[0m \u001b[0mencoding\u001b[0m\u001b[0;34m=\u001b[0m\u001b[0;34m'utf-8'\u001b[0m\u001b[0;34m)\u001b[0m \u001b[0;32mas\u001b[0m \u001b[0mf\u001b[0m\u001b[0;34m:\u001b[0m\u001b[0;31m#이런 코드는 주피터노트북을 내 컴터에서 사용할때나 사용할 수 있는 코드다.\u001b[0m\u001b[0;34m\u001b[0m\u001b[0;34m\u001b[0m\u001b[0m\n\u001b[0m\u001b[1;32m      5\u001b[0m       \u001b[0mcontent\u001b[0m \u001b[0;34m=\u001b[0m \u001b[0mf\u001b[0m\u001b[0;34m.\u001b[0m\u001b[0mread\u001b[0m\u001b[0;34m(\u001b[0m\u001b[0;34m)\u001b[0m\u001b[0;34m\u001b[0m\u001b[0;34m\u001b[0m\u001b[0m\n",
            "\u001b[0;31mFileNotFoundError\u001b[0m: [Errno 2] No such file or directory: 'C://Users//POSCOINTL//텍스트분석//data_set//제임스웹.txt'"
          ]
        }
      ],
      "source": [
        "from konlpy.tag import Okt\n",
        "import re\n",
        "\n",
        "with open('C://Users//POSCOINTL//텍스트분석//data_set//제임스웹.txt', encoding='utf-8') as f:#이런 코드는 주피터노트북을 내 컴터에서 사용할때나 사용할 수 있는 코드다.\n",
        "      content = f.read()"
      ]
    },
    {
      "cell_type": "code",
      "execution_count": null,
      "id": "943598c7",
      "metadata": {
        "id": "943598c7",
        "outputId": "704780a4-71e8-4ec1-91c3-59e60ecfbd2b"
      },
      "outputs": [
        {
          "data": {
            "text/plain": [
              "'[디지털데일리 이상일기자] 인공지능(AI)를 결합한 컨택센터인 에이아이(AI) 컨택센터(AICC)의 도입이 금융권에 본격화되고 있는 가운데 농협이 최근 화두가 되고 있는 ‘챗GPT’를 활용한 AICC 도입을 타진하고 나섰다. \\n\\n이번 사업을 통해 농협중앙회, 농협은행, 농협생명보험 등 범 농협의 인공지능 기반 컨택센터 구축이 본격화될 전망이다. \\n\\n31일 관련업계에 따르면 농협이 ‘범농협 AICC(AI 컨택센터) 구축 컨설팅’ 사업을 발주하고 사업자 선정을 마무리하고 컨설팅 사업에 들어간다. \\n \\n농협은 챗GPT 등 AI 기술의 혁신적인 변화에 대응하는 한편 금융권의 AICC 통합 도입 움직임에 최신 AI 기술인 챗GPT 등을 활용한 혁신적인 AI기반 도입에 나선다는 계획이다.\\n\\n특히 은행, 카드, 보험 등이 각자 분산된 고객센터를 사용하면서 비효율적인 자원관리 및 고객 서비스의 품질이 균등하지 못하다는 점에서 범농협 고객센터 통합 및 표준화에 나선다는 계획이다. \\n\\n이번 컨설팅 사업은 6월 말까지 진행될 계획으로 범농협 고객센터와 AI기술발전에 따른 경쟁사 고객센터의 대응변화를 장기적인 관점에서 구체적으로 점검하는 한편 AICC를 이미 도입 한 금융사와 차별화된 서비스로 산업 내 경쟁우위를 확보할 수 있는 사업 추진 방향을 모색하게 된다. \\n\\n우선 범농협 고객센터 현황 분석·진단을 통해 계열사별 고객센터 인프라 및 운영방식 등 전반적 현황을 분석하고 기술 및 운영 측면 장․단점 및 변화 방향성을 진단한다. \\n\\n또, AI 기술 변화 및 AICC 도입 사례의 구체적 점검을 통해 챗GPT를 비롯 발전된 AI기술 및 적용 방안을 검토한다. \\n \\n여기에 통합AICC 도입 기대효과 및 단계별 사업 추진 방안 수립을 통해 범농협 통합 AICC 도입의 기대효과 및 구축방향을 마련하고 예상 비용․기간 등 효율성을 고려해 단계별 통합 구축 추진 방안을 수립한다는 계획이다.  '"
            ]
          },
          "execution_count": 2,
          "metadata": {},
          "output_type": "execute_result"
        }
      ],
      "source": [
        "content"
      ]
    },
    {
      "cell_type": "code",
      "execution_count": null,
      "id": "ce520725",
      "metadata": {
        "id": "ce520725"
      },
      "outputs": [],
      "source": [
        "# 몇개의 불용어 제거\n",
        "content = re.sub(\"[\\Wa-zA-Z0-9_]+\", \" \", content)"
      ]
    },
    {
      "cell_type": "code",
      "execution_count": null,
      "id": "29798029",
      "metadata": {
        "id": "29798029",
        "outputId": "ac215554-9b10-487e-b994-a95c391665b3"
      },
      "outputs": [
        {
          "data": {
            "text/plain": [
              "' 디지털데일리 이상일기자 인공지능 를 결합한 컨택센터인 에이아이 컨택센터 의 도입이 금융권에 본격화되고 있는 가운데 농협이 최근 화두가 되고 있는 챗 를 활용한 도입을 타진하고 나섰다 이번 사업을 통해 농협중앙회 농협은행 농협생명보험 등 범 농협의 인공지능 기반 컨택센터 구축이 본격화될 전망이다 일 관련업계에 따르면 농협이 범농협 컨택센터 구축 컨설팅 사업을 발주하고 사업자 선정을 마무리하고 컨설팅 사업에 들어간다 농협은 챗 등 기술의 혁신적인 변화에 대응하는 한편 금융권의 통합 도입 움직임에 최신 기술인 챗 등을 활용한 혁신적인 기반 도입에 나선다는 계획이다 특히 은행 카드 보험 등이 각자 분산된 고객센터를 사용하면서 비효율적인 자원관리 및 고객 서비스의 품질이 균등하지 못하다는 점에서 범농협 고객센터 통합 및 표준화에 나선다는 계획이다 이번 컨설팅 사업은 월 말까지 진행될 계획으로 범농협 고객센터와 기술발전에 따른 경쟁사 고객센터의 대응변화를 장기적인 관점에서 구체적으로 점검하는 한편 를 이미 도입 한 금융사와 차별화된 서비스로 산업 내 경쟁우위를 확보할 수 있는 사업 추진 방향을 모색하게 된다 우선 범농협 고객센터 현황 분석 진단을 통해 계열사별 고객센터 인프라 및 운영방식 등 전반적 현황을 분석하고 기술 및 운영 측면 장 단점 및 변화 방향성을 진단한다 또 기술 변화 및 도입 사례의 구체적 점검을 통해 챗 를 비롯 발전된 기술 및 적용 방안을 검토한다 여기에 통합 도입 기대효과 및 단계별 사업 추진 방안 수립을 통해 범농협 통합 도입의 기대효과 및 구축방향을 마련하고 예상 비용 기간 등 효율성을 고려해 단계별 통합 구축 추진 방안을 수립한다는 계획이다 '"
            ]
          },
          "execution_count": 4,
          "metadata": {},
          "output_type": "execute_result"
        }
      ],
      "source": [
        "content"
      ]
    },
    {
      "cell_type": "code",
      "execution_count": null,
      "id": "38cda3ac",
      "metadata": {
        "id": "38cda3ac"
      },
      "outputs": [],
      "source": [
        "# 형태소 분석 및 품사 태깅\n",
        "okt = Okt()\n",
        "morphs = okt.pos(content)"
      ]
    },
    {
      "cell_type": "code",
      "execution_count": null,
      "id": "14bcf4ae",
      "metadata": {
        "id": "14bcf4ae",
        "outputId": "ac6284a4-e86a-4eb8-9d1d-3dbf9a08da5b"
      },
      "outputs": [
        {
          "data": {
            "text/plain": [
              "[('디지털', 'Noun'),\n",
              " ('데', 'Noun'),\n",
              " ('일리', 'Noun'),\n",
              " ('이상', 'Noun'),\n",
              " ('일기자', 'Noun'),\n",
              " ('인공', 'Noun'),\n",
              " ('지능', 'Noun'),\n",
              " ('를', 'Noun'),\n",
              " ('결합', 'Noun'),\n",
              " ('한', 'Josa'),\n",
              " ('컨택', 'Noun'),\n",
              " ('센터', 'Noun'),\n",
              " ('인', 'Josa'),\n",
              " ('에이', 'Noun'),\n",
              " ('아이', 'Noun'),\n",
              " ('컨택', 'Noun'),\n",
              " ('센터', 'Noun'),\n",
              " ('의', 'Noun'),\n",
              " ('도입', 'Noun'),\n",
              " ('이', 'Josa'),\n",
              " ('금융', 'Noun'),\n",
              " ('권', 'Suffix'),\n",
              " ('에', 'Josa'),\n",
              " ('본격', 'Noun'),\n",
              " ('화', 'Suffix'),\n",
              " ('되고', 'Verb'),\n",
              " ('있는', 'Adjective'),\n",
              " ('가운데', 'Noun'),\n",
              " ('농협', 'Noun'),\n",
              " ('이', 'Josa'),\n",
              " ('최근', 'Noun'),\n",
              " ('화두', 'Noun'),\n",
              " ('가', 'Josa'),\n",
              " ('되고', 'Verb'),\n",
              " ('있는', 'Adjective'),\n",
              " ('챗', 'Noun'),\n",
              " ('를', 'Noun'),\n",
              " ('활용', 'Noun'),\n",
              " ('한', 'Josa'),\n",
              " ('도입', 'Noun'),\n",
              " ('을', 'Josa'),\n",
              " ('타진', 'Noun'),\n",
              " ('하고', 'Josa'),\n",
              " ('나섰다', 'Verb'),\n",
              " ('이번', 'Noun'),\n",
              " ('사업', 'Noun'),\n",
              " ('을', 'Josa'),\n",
              " ('통해', 'Noun'),\n",
              " ('농협', 'Noun'),\n",
              " ('중앙회', 'Noun'),\n",
              " ('농협', 'Noun'),\n",
              " ('은행', 'Noun'),\n",
              " ('농협생명', 'Noun'),\n",
              " ('보험', 'Noun'),\n",
              " ('등', 'Noun'),\n",
              " ('범', 'Noun'),\n",
              " ('농협', 'Noun'),\n",
              " ('의', 'Josa'),\n",
              " ('인공', 'Noun'),\n",
              " ('지능', 'Noun'),\n",
              " ('기반', 'Noun'),\n",
              " ('컨택', 'Noun'),\n",
              " ('센터', 'Noun'),\n",
              " ('구축', 'Noun'),\n",
              " ('이', 'Josa'),\n",
              " ('본격', 'Noun'),\n",
              " ('화', 'Suffix'),\n",
              " ('될', 'Verb'),\n",
              " ('전망', 'Noun'),\n",
              " ('이다', 'Josa'),\n",
              " ('일', 'Noun'),\n",
              " ('관련', 'Noun'),\n",
              " ('업계', 'Noun'),\n",
              " ('에', 'Josa'),\n",
              " ('따르면', 'Verb'),\n",
              " ('농협', 'Noun'),\n",
              " ('이', 'Josa'),\n",
              " ('범', 'Noun'),\n",
              " ('농협', 'Noun'),\n",
              " ('컨택', 'Noun'),\n",
              " ('센터', 'Noun'),\n",
              " ('구축', 'Noun'),\n",
              " ('컨설팅', 'Noun'),\n",
              " ('사업', 'Noun'),\n",
              " ('을', 'Josa'),\n",
              " ('발주', 'Noun'),\n",
              " ('하고', 'Josa'),\n",
              " ('사업자', 'Noun'),\n",
              " ('선정', 'Noun'),\n",
              " ('을', 'Josa'),\n",
              " ('마무리', 'Noun'),\n",
              " ('하고', 'Josa'),\n",
              " ('컨설팅', 'Noun'),\n",
              " ('사업', 'Noun'),\n",
              " ('에', 'Josa'),\n",
              " ('들어간다', 'Verb'),\n",
              " ('농협', 'Noun'),\n",
              " ('은', 'Josa'),\n",
              " ('챗', 'Noun'),\n",
              " ('등', 'Noun'),\n",
              " ('기술', 'Noun'),\n",
              " ('의', 'Josa'),\n",
              " ('혁신', 'Noun'),\n",
              " ('적', 'Suffix'),\n",
              " ('인', 'Josa'),\n",
              " ('변화', 'Noun'),\n",
              " ('에', 'Josa'),\n",
              " ('대응', 'Noun'),\n",
              " ('하는', 'Verb'),\n",
              " ('한편', 'Noun'),\n",
              " ('금융', 'Noun'),\n",
              " ('권', 'Suffix'),\n",
              " ('의', 'Josa'),\n",
              " ('통합', 'Noun'),\n",
              " ('도입', 'Noun'),\n",
              " ('움직임', 'Noun'),\n",
              " ('에', 'Josa'),\n",
              " ('최신', 'Noun'),\n",
              " ('기술', 'Noun'),\n",
              " ('인', 'Josa'),\n",
              " ('챗', 'Noun'),\n",
              " ('등', 'Noun'),\n",
              " ('을', 'Josa'),\n",
              " ('활용', 'Noun'),\n",
              " ('한', 'Josa'),\n",
              " ('혁신', 'Noun'),\n",
              " ('적', 'Suffix'),\n",
              " ('인', 'Josa'),\n",
              " ('기반', 'Noun'),\n",
              " ('도입', 'Noun'),\n",
              " ('에', 'Josa'),\n",
              " ('나선다는', 'Verb'),\n",
              " ('계획', 'Noun'),\n",
              " ('이다', 'Josa'),\n",
              " ('특히', 'Adverb'),\n",
              " ('은행', 'Noun'),\n",
              " ('카드', 'Noun'),\n",
              " ('보험', 'Noun'),\n",
              " ('등', 'Noun'),\n",
              " ('이', 'Josa'),\n",
              " ('각자', 'Noun'),\n",
              " ('분산', 'Noun'),\n",
              " ('된', 'Verb'),\n",
              " ('고객', 'Noun'),\n",
              " ('센터', 'Noun'),\n",
              " ('를', 'Josa'),\n",
              " ('사용', 'Noun'),\n",
              " ('하면서', 'Verb'),\n",
              " ('비', 'Noun'),\n",
              " ('효율', 'Noun'),\n",
              " ('적', 'Suffix'),\n",
              " ('인', 'Josa'),\n",
              " ('자원', 'Noun'),\n",
              " ('관리', 'Noun'),\n",
              " ('및', 'Noun'),\n",
              " ('고객', 'Noun'),\n",
              " ('서비스', 'Noun'),\n",
              " ('의', 'Josa'),\n",
              " ('품질', 'Noun'),\n",
              " ('이', 'Josa'),\n",
              " ('균등하지', 'Adjective'),\n",
              " ('못', 'VerbPrefix'),\n",
              " ('하다는', 'Verb'),\n",
              " ('점', 'Noun'),\n",
              " ('에서', 'Josa'),\n",
              " ('범', 'Noun'),\n",
              " ('농협', 'Noun'),\n",
              " ('고객', 'Noun'),\n",
              " ('센터', 'Noun'),\n",
              " ('통합', 'Noun'),\n",
              " ('및', 'Noun'),\n",
              " ('표준화', 'Noun'),\n",
              " ('에', 'Josa'),\n",
              " ('나선다는', 'Verb'),\n",
              " ('계획', 'Noun'),\n",
              " ('이다', 'Josa'),\n",
              " ('이번', 'Noun'),\n",
              " ('컨설팅', 'Noun'),\n",
              " ('사업', 'Noun'),\n",
              " ('은', 'Josa'),\n",
              " ('월', 'Noun'),\n",
              " ('말', 'Noun'),\n",
              " ('까지', 'Josa'),\n",
              " ('진행', 'Noun'),\n",
              " ('될', 'Verb'),\n",
              " ('계획', 'Noun'),\n",
              " ('으로', 'Josa'),\n",
              " ('범', 'Noun'),\n",
              " ('농협', 'Noun'),\n",
              " ('고객', 'Noun'),\n",
              " ('센터', 'Noun'),\n",
              " ('와', 'Josa'),\n",
              " ('기술', 'Noun'),\n",
              " ('발전', 'Noun'),\n",
              " ('에', 'Josa'),\n",
              " ('따른', 'Verb'),\n",
              " ('경쟁', 'Noun'),\n",
              " ('사', 'Noun'),\n",
              " ('고객', 'Noun'),\n",
              " ('센터', 'Noun'),\n",
              " ('의', 'Josa'),\n",
              " ('대응', 'Noun'),\n",
              " ('변화', 'Noun'),\n",
              " ('를', 'Josa'),\n",
              " ('장기', 'Noun'),\n",
              " ('적', 'Suffix'),\n",
              " ('인', 'Josa'),\n",
              " ('관점', 'Noun'),\n",
              " ('에서', 'Josa'),\n",
              " ('구체', 'Noun'),\n",
              " ('적', 'Suffix'),\n",
              " ('으로', 'Josa'),\n",
              " ('점검', 'Noun'),\n",
              " ('하는', 'Verb'),\n",
              " ('한편', 'Noun'),\n",
              " ('를', 'Noun'),\n",
              " ('이미', 'Adverb'),\n",
              " ('도입', 'Noun'),\n",
              " ('한', 'Verb'),\n",
              " ('금융', 'Noun'),\n",
              " ('사와', 'Verb'),\n",
              " ('차별', 'Noun'),\n",
              " ('화', 'Suffix'),\n",
              " ('된', 'Verb'),\n",
              " ('서비스', 'Noun'),\n",
              " ('로', 'Josa'),\n",
              " ('산업', 'Noun'),\n",
              " ('내', 'Noun'),\n",
              " ('경쟁우위', 'Noun'),\n",
              " ('를', 'Josa'),\n",
              " ('확보', 'Noun'),\n",
              " ('할', 'Verb'),\n",
              " ('수', 'Noun'),\n",
              " ('있는', 'Adjective'),\n",
              " ('사업', 'Noun'),\n",
              " ('추진', 'Noun'),\n",
              " ('방향', 'Noun'),\n",
              " ('을', 'Josa'),\n",
              " ('모색', 'Noun'),\n",
              " ('하게', 'Verb'),\n",
              " ('된다', 'Verb'),\n",
              " ('우선', 'Noun'),\n",
              " ('범', 'Noun'),\n",
              " ('농협', 'Noun'),\n",
              " ('고객', 'Noun'),\n",
              " ('센터', 'Noun'),\n",
              " ('현황', 'Noun'),\n",
              " ('분석', 'Noun'),\n",
              " ('진단', 'Noun'),\n",
              " ('을', 'Josa'),\n",
              " ('통해', 'Noun'),\n",
              " ('계열', 'Noun'),\n",
              " ('사별', 'Noun'),\n",
              " ('고객', 'Noun'),\n",
              " ('센터', 'Noun'),\n",
              " ('인프라', 'Noun'),\n",
              " ('및', 'Noun'),\n",
              " ('운영', 'Noun'),\n",
              " ('방식', 'Noun'),\n",
              " ('등', 'Noun'),\n",
              " ('전반', 'Noun'),\n",
              " ('적', 'Suffix'),\n",
              " ('현황', 'Noun'),\n",
              " ('을', 'Josa'),\n",
              " ('분석', 'Noun'),\n",
              " ('하고', 'Josa'),\n",
              " ('기술', 'Noun'),\n",
              " ('및', 'Noun'),\n",
              " ('운영', 'Noun'),\n",
              " ('측면', 'Noun'),\n",
              " ('장', 'Noun'),\n",
              " ('단점', 'Noun'),\n",
              " ('및', 'Noun'),\n",
              " ('변화', 'Noun'),\n",
              " ('방향성', 'Noun'),\n",
              " ('을', 'Josa'),\n",
              " ('진단', 'Noun'),\n",
              " ('한다', 'Verb'),\n",
              " ('또', 'Noun'),\n",
              " ('기술', 'Noun'),\n",
              " ('변화', 'Noun'),\n",
              " ('및', 'Noun'),\n",
              " ('도입', 'Noun'),\n",
              " ('사례', 'Noun'),\n",
              " ('의', 'Josa'),\n",
              " ('구체', 'Noun'),\n",
              " ('적', 'Suffix'),\n",
              " ('점검', 'Noun'),\n",
              " ('을', 'Josa'),\n",
              " ('통해', 'Noun'),\n",
              " ('챗', 'Noun'),\n",
              " ('를', 'Noun'),\n",
              " ('비롯', 'Noun'),\n",
              " ('발전', 'Noun'),\n",
              " ('된', 'Verb'),\n",
              " ('기술', 'Noun'),\n",
              " ('및', 'Noun'),\n",
              " ('적용', 'Noun'),\n",
              " ('방안', 'Noun'),\n",
              " ('을', 'Josa'),\n",
              " ('검토', 'Noun'),\n",
              " ('한다', 'Verb'),\n",
              " ('여기', 'Noun'),\n",
              " ('에', 'Josa'),\n",
              " ('통합', 'Noun'),\n",
              " ('도입', 'Noun'),\n",
              " ('기', 'Modifier'),\n",
              " ('대효', 'Noun'),\n",
              " ('과', 'Josa'),\n",
              " ('및', 'Noun'),\n",
              " ('단계', 'Noun'),\n",
              " ('별', 'Noun'),\n",
              " ('사업', 'Noun'),\n",
              " ('추진', 'Noun'),\n",
              " ('방안', 'Noun'),\n",
              " ('수립', 'Noun'),\n",
              " ('을', 'Josa'),\n",
              " ('통해', 'Noun'),\n",
              " ('범', 'Noun'),\n",
              " ('농협', 'Noun'),\n",
              " ('통합', 'Noun'),\n",
              " ('도입', 'Noun'),\n",
              " ('의', 'Josa'),\n",
              " ('기', 'Modifier'),\n",
              " ('대효', 'Noun'),\n",
              " ('과', 'Josa'),\n",
              " ('및', 'Noun'),\n",
              " ('구축', 'Noun'),\n",
              " ('방향', 'Noun'),\n",
              " ('을', 'Josa'),\n",
              " ('마련', 'Noun'),\n",
              " ('하고', 'Josa'),\n",
              " ('예상', 'Noun'),\n",
              " ('비용', 'Noun'),\n",
              " ('기간', 'Noun'),\n",
              " ('등', 'Noun'),\n",
              " ('효율', 'Noun'),\n",
              " ('성', 'Suffix'),\n",
              " ('을', 'Josa'),\n",
              " ('고려', 'Noun'),\n",
              " ('해', 'Verb'),\n",
              " ('단계', 'Noun'),\n",
              " ('별', 'Noun'),\n",
              " ('통합', 'Noun'),\n",
              " ('구축', 'Noun'),\n",
              " ('추진', 'Noun'),\n",
              " ('방안', 'Noun'),\n",
              " ('을', 'Josa'),\n",
              " ('수립', 'Noun'),\n",
              " ('한다는', 'Modifier'),\n",
              " ('계획', 'Noun'),\n",
              " ('이다', 'Josa')]"
            ]
          },
          "execution_count": 6,
          "metadata": {},
          "output_type": "execute_result"
        }
      ],
      "source": [
        "morphs"
      ]
    },
    {
      "cell_type": "code",
      "execution_count": null,
      "id": "ad21a042",
      "metadata": {
        "id": "ad21a042"
      },
      "outputs": [],
      "source": [
        "words = []\n",
        "for word, pos in morphs:\n",
        "    if pos == 'Noun':\n",
        "        words.append(word)"
      ]
    },
    {
      "cell_type": "code",
      "execution_count": null,
      "id": "73e7f2bd",
      "metadata": {
        "id": "73e7f2bd",
        "outputId": "cc1f02d6-91db-491f-ab73-3acecc7f7e1a"
      },
      "outputs": [
        {
          "data": {
            "text/plain": [
              "['디지털',\n",
              " '데',\n",
              " '일리',\n",
              " '이상',\n",
              " '일기자',\n",
              " '인공',\n",
              " '지능',\n",
              " '를',\n",
              " '결합',\n",
              " '컨택',\n",
              " '센터',\n",
              " '에이',\n",
              " '아이',\n",
              " '컨택',\n",
              " '센터',\n",
              " '의',\n",
              " '도입',\n",
              " '금융',\n",
              " '본격',\n",
              " '가운데',\n",
              " '농협',\n",
              " '최근',\n",
              " '화두',\n",
              " '챗',\n",
              " '를',\n",
              " '활용',\n",
              " '도입',\n",
              " '타진',\n",
              " '이번',\n",
              " '사업',\n",
              " '통해',\n",
              " '농협',\n",
              " '중앙회',\n",
              " '농협',\n",
              " '은행',\n",
              " '농협생명',\n",
              " '보험',\n",
              " '등',\n",
              " '범',\n",
              " '농협',\n",
              " '인공',\n",
              " '지능',\n",
              " '기반',\n",
              " '컨택',\n",
              " '센터',\n",
              " '구축',\n",
              " '본격',\n",
              " '전망',\n",
              " '일',\n",
              " '관련',\n",
              " '업계',\n",
              " '농협',\n",
              " '범',\n",
              " '농협',\n",
              " '컨택',\n",
              " '센터',\n",
              " '구축',\n",
              " '컨설팅',\n",
              " '사업',\n",
              " '발주',\n",
              " '사업자',\n",
              " '선정',\n",
              " '마무리',\n",
              " '컨설팅',\n",
              " '사업',\n",
              " '농협',\n",
              " '챗',\n",
              " '등',\n",
              " '기술',\n",
              " '혁신',\n",
              " '변화',\n",
              " '대응',\n",
              " '한편',\n",
              " '금융',\n",
              " '통합',\n",
              " '도입',\n",
              " '움직임',\n",
              " '최신',\n",
              " '기술',\n",
              " '챗',\n",
              " '등',\n",
              " '활용',\n",
              " '혁신',\n",
              " '기반',\n",
              " '도입',\n",
              " '계획',\n",
              " '은행',\n",
              " '카드',\n",
              " '보험',\n",
              " '등',\n",
              " '각자',\n",
              " '분산',\n",
              " '고객',\n",
              " '센터',\n",
              " '사용',\n",
              " '비',\n",
              " '효율',\n",
              " '자원',\n",
              " '관리',\n",
              " '및',\n",
              " '고객',\n",
              " '서비스',\n",
              " '품질',\n",
              " '점',\n",
              " '범',\n",
              " '농협',\n",
              " '고객',\n",
              " '센터',\n",
              " '통합',\n",
              " '및',\n",
              " '표준화',\n",
              " '계획',\n",
              " '이번',\n",
              " '컨설팅',\n",
              " '사업',\n",
              " '월',\n",
              " '말',\n",
              " '진행',\n",
              " '계획',\n",
              " '범',\n",
              " '농협',\n",
              " '고객',\n",
              " '센터',\n",
              " '기술',\n",
              " '발전',\n",
              " '경쟁',\n",
              " '사',\n",
              " '고객',\n",
              " '센터',\n",
              " '대응',\n",
              " '변화',\n",
              " '장기',\n",
              " '관점',\n",
              " '구체',\n",
              " '점검',\n",
              " '한편',\n",
              " '를',\n",
              " '도입',\n",
              " '금융',\n",
              " '차별',\n",
              " '서비스',\n",
              " '산업',\n",
              " '내',\n",
              " '경쟁우위',\n",
              " '확보',\n",
              " '수',\n",
              " '사업',\n",
              " '추진',\n",
              " '방향',\n",
              " '모색',\n",
              " '우선',\n",
              " '범',\n",
              " '농협',\n",
              " '고객',\n",
              " '센터',\n",
              " '현황',\n",
              " '분석',\n",
              " '진단',\n",
              " '통해',\n",
              " '계열',\n",
              " '사별',\n",
              " '고객',\n",
              " '센터',\n",
              " '인프라',\n",
              " '및',\n",
              " '운영',\n",
              " '방식',\n",
              " '등',\n",
              " '전반',\n",
              " '현황',\n",
              " '분석',\n",
              " '기술',\n",
              " '및',\n",
              " '운영',\n",
              " '측면',\n",
              " '장',\n",
              " '단점',\n",
              " '및',\n",
              " '변화',\n",
              " '방향성',\n",
              " '진단',\n",
              " '또',\n",
              " '기술',\n",
              " '변화',\n",
              " '및',\n",
              " '도입',\n",
              " '사례',\n",
              " '구체',\n",
              " '점검',\n",
              " '통해',\n",
              " '챗',\n",
              " '를',\n",
              " '비롯',\n",
              " '발전',\n",
              " '기술',\n",
              " '및',\n",
              " '적용',\n",
              " '방안',\n",
              " '검토',\n",
              " '여기',\n",
              " '통합',\n",
              " '도입',\n",
              " '대효',\n",
              " '및',\n",
              " '단계',\n",
              " '별',\n",
              " '사업',\n",
              " '추진',\n",
              " '방안',\n",
              " '수립',\n",
              " '통해',\n",
              " '범',\n",
              " '농협',\n",
              " '통합',\n",
              " '도입',\n",
              " '대효',\n",
              " '및',\n",
              " '구축',\n",
              " '방향',\n",
              " '마련',\n",
              " '예상',\n",
              " '비용',\n",
              " '기간',\n",
              " '등',\n",
              " '효율',\n",
              " '고려',\n",
              " '단계',\n",
              " '별',\n",
              " '통합',\n",
              " '구축',\n",
              " '추진',\n",
              " '방안',\n",
              " '수립',\n",
              " '계획']"
            ]
          },
          "execution_count": 13,
          "metadata": {},
          "output_type": "execute_result"
        }
      ],
      "source": [
        "words"
      ]
    },
    {
      "cell_type": "code",
      "execution_count": null,
      "id": "6d1d0401",
      "metadata": {
        "id": "6d1d0401"
      },
      "outputs": [],
      "source": []
    }
  ],
  "metadata": {
    "kernelspec": {
      "display_name": "Python 3 (ipykernel)",
      "language": "python",
      "name": "python3"
    },
    "language_info": {
      "codemirror_mode": {
        "name": "ipython",
        "version": 3
      },
      "file_extension": ".py",
      "mimetype": "text/x-python",
      "name": "python",
      "nbconvert_exporter": "python",
      "pygments_lexer": "ipython3",
      "version": "3.9.13"
    },
    "colab": {
      "provenance": [],
      "include_colab_link": true
    }
  },
  "nbformat": 4,
  "nbformat_minor": 5
}